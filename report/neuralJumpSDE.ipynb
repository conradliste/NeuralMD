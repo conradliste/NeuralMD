{
 "cells": [
  {
   "cell_type": "markdown",
   "metadata": {},
   "source": [
    "# Neural Jump Stochastic Differential Equations\n",
    "\n",
    "This work extends the Neural ODE framework to account for dynamics with sudden jumps. "
   ]
  },
  {
   "cell_type": "markdown",
   "metadata": {},
   "source": [
    "## Temporal Point Processes\n",
    "\n",
    "A **temporal point process** is a generative model whose output is a sequence of discrete events $\\mathcal{H}\\{\\tau_i\\}$. In real world scenarios, each state is often dependent on the previous states. In Jia et al., they only deal with dependencis that follow a conditional probability of the form\n",
    "\n",
    "$$\\mathbb{P}\\{\\text{event in } [t, t + dt]\\ |\\ \\mathcal{t}\\} = \\lambda(t) \\cdot dt$$\n",
    "\n",
    "* $\\lambda(t)$ is a probability density function called the **conditional intensity function**\n",
    "* $\\mathcal{H}_t$ is the history of events up to time $t$\n",
    "\n",
    "### Types of Point Processes\n",
    "\n",
    "A **Poisson process** is a point process where the conditional intensity $\\lambda(t)$ is independent of the history $\\mathcal{H}$. \n",
    "\n",
    "A **Hawkes Process** assumes that each subsequent event leads to an increase in the conditional intensity $\\lambda(t)$\n",
    "\n",
    "$$\\lambda(t) = \\lambda_0 + \\alpha \\sum_{\\tau_j \\in \\mathcal{H}_t} \\kappa(t-\\tau_j)$$\n",
    "* $\\lambda_0$ is a baseline intensity\n",
    "* $\\alpha$ is a scalar greater than 0\n",
    "* $\\kappa(t)$ is a kernel function (i.e. exponential kernel,  power-law kernel)\n",
    "\n",
    "A **self-correcting process** assumes that the conditional intensity grows exponentially with time but each event suppresses future events\n",
    "\n",
    "$$\\lambda(t) = e^{\\mu t - \\beta N(t)}$$\n",
    "\n",
    "* $\\mu$ and $\\beta$ are scalars\n",
    "* $N(t)$ is a count of the number of events that have occurred before time $t$\n",
    "\n",
    "A **marked temporal point process** has events that are each *marked* by a vector label. The notation for marked processes is $\\mathcal{H} = \\{(\\tau_j, k_j)\\}$ where $k_j$ is a vector label for $\\tau_j$ (Discrete labels are one-hot encoded vectors).\n"
   ]
  },
  {
   "cell_type": "markdown",
   "metadata": {},
   "source": [
    "## Neural Jump Stochastic Differential Equations\n",
    "\n",
    "## Problem Framework\n",
    "\n",
    "Let $z(t) \\in \\mathbb{R}^n$ be the latent state of the system which we model as a marked point process. We assume that it evolves continuously over time deterministically until it is interuppted by a stochastic event (i.e. a jump). Recalling previous formulation for the point process, we say that the probability of an event in a time interval $[t, t + dt]$ is given by the following equation\n",
    "\n",
    "$$\\mathbb{P}\\{\\text{event in } [t, t + dt] | \\mathcal{t}\\} = \\lambda(t) \\cdot dt$$\n",
    "\n",
    "In this formulation, we will make the following assumptions\n",
    "\n",
    "\n",
    "* $\\lambda(t) = \\lambda(z(t))$\n",
    "* The label at time $t$ is sampled from $k(t) \\sim p(k|z(t))$\n",
    "\n",
    "Recall, $N(t)$ is a count of the number of events that have occurred before time $t$, the differential we are trying to solve is\n",
    "\n",
    "$$dz(t) = f(z(t), t; \\theta) \\cdot dt + w(z(t)), k(t), t; \\theta) \\cdot dN(t)$$\n",
    "\n",
    "* $f(z(t), t; \\theta)$ is called the **flow** and is parameterized by a neural network\n",
    "* $w(z(t), k(t), t; \\theta)$ is called the **jump** and is parameterized by a separate neural network\n",
    "\n",
    "A high level overview of the type of differential equation that neural jump SDEs are trying to model is shown below. The top part of the image shows the forward integral. Notice that the path is the continuous and then followed by a sudden jump\n",
    "\n",
    "![juimpode](./media/jumpode.png)"
   ]
  }
 ],
 "metadata": {
  "interpreter": {
   "hash": "21362624900b136e2d60c37e35fcd8c2c971d8baaab43e145ff5f5662d917434"
  },
  "kernelspec": {
   "display_name": "Python 3.9.7 64-bit ('hbond': conda)",
   "language": "python",
   "name": "python3"
  },
  "language_info": {
   "name": "python",
   "version": "3.9.7"
  },
  "orig_nbformat": 4
 },
 "nbformat": 4,
 "nbformat_minor": 2
}
